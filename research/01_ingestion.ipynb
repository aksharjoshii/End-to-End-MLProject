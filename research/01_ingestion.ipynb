{
 "cells": [
  {
   "cell_type": "code",
   "execution_count": 1,
   "metadata": {},
   "outputs": [],
   "source": [
    "import os "
   ]
  },
  {
   "cell_type": "code",
   "execution_count": 2,
   "metadata": {},
   "outputs": [
    {
     "data": {
      "text/plain": [
       "'d:\\\\ML_Deployment\\\\Automadata\\\\research'"
      ]
     },
     "execution_count": 2,
     "metadata": {},
     "output_type": "execute_result"
    }
   ],
   "source": [
    "%pwd"
   ]
  },
  {
   "cell_type": "code",
   "execution_count": 3,
   "metadata": {},
   "outputs": [
    {
     "data": {
      "text/plain": [
       "'d:\\\\ML_Deployment\\\\Automadata'"
      ]
     },
     "execution_count": 3,
     "metadata": {},
     "output_type": "execute_result"
    }
   ],
   "source": [
    "os.chdir('../')\n",
    "%pwd"
   ]
  },
  {
   "cell_type": "code",
   "execution_count": 4,
   "metadata": {},
   "outputs": [],
   "source": [
    "import os\n",
    "from pymongo.mongo_client import MongoClient\n",
    "from src.utils.common import get_size,  read_yaml, create_directories\n",
    "from src.config.configuration import DataIngestionConfig\n",
    "from src.constants import *"
   ]
  },
  {
   "cell_type": "code",
   "execution_count": 5,
   "metadata": {},
   "outputs": [],
   "source": [
    "from src.logging import logger"
   ]
  },
  {
   "cell_type": "code",
   "execution_count": 6,
   "metadata": {},
   "outputs": [],
   "source": [
    "import pandas as pd"
   ]
  },
  {
   "cell_type": "code",
   "execution_count": 7,
   "metadata": {},
   "outputs": [],
   "source": [
    "from dataclasses import dataclass"
   ]
  },
  {
   "cell_type": "code",
   "execution_count": 8,
   "metadata": {},
   "outputs": [],
   "source": [
    "@dataclass(frozen=True)\n",
    "class DataIngestionConfig:\n",
    "    root_dir: Path\n",
    "    db_uri: str\n",
    "    raw_data_dir: Path\n"
   ]
  },
  {
   "cell_type": "code",
   "execution_count": 9,
   "metadata": {},
   "outputs": [],
   "source": [
    "class ConfigManager:\n",
    "    \n",
    "    def __init__(\n",
    "        self,\n",
    "        config_filepath = CONFIG_FILE_PATH,\n",
    "        params_filepath = PARAMS_FILE_PATH,\n",
    "        schema_filepath = SCHEMA_FILE_PATH):\n",
    "        \n",
    "        self.config = read_yaml(config_filepath)\n",
    "        self.params = read_yaml(params_filepath)\n",
    "        self.schema = read_yaml(schema_filepath)\n",
    "        \n",
    "        create_directories([self.config.artifacts_root])\n",
    "    \n",
    "    \n",
    "    def get_data_ingestion_config(self) -> DataIngestionConfig:\n",
    "        config = self.config.data_ingestion \n",
    "        \n",
    "        create_directories([config.root_dir])\n",
    "        \n",
    "        data_ingestion_config = DataIngestionConfig(\n",
    "            root_dir=config.root_dir,\n",
    "            db_uri= config.db_uri,\n",
    "            raw_data_dir  = config.raw_data_dir    \n",
    "        )\n",
    "        return data_ingestion_config"
   ]
  },
  {
   "cell_type": "code",
   "execution_count": 10,
   "metadata": {},
   "outputs": [],
   "source": [
    "class DataIngestion:\n",
    "    def __init__(self, config:DataIngestionConfig):\n",
    "        self.config = config\n",
    "        \n",
    "    def export_collection_as_df(self,collection_name, db_name):\n",
    "        \n",
    "        try:   \n",
    "            client = MongoClient(MONGO_DB_URL)\n",
    "            collection = client[db_name][collection_name]\n",
    "            \n",
    "            # Retrieve the data from the MongoDB collection\n",
    "            cursor = collection.find()\n",
    "\n",
    "            # Convert the MongoDB cursor to a list of dictionaries\n",
    "            data_list = list(cursor)\n",
    "\n",
    "            # Convert the list of dictionaries to a DataFrame\n",
    "            df = pd.DataFrame(data_list)\n",
    "\n",
    "            # drop \"_id\"\n",
    "            if '_id' in df.columns:\n",
    "                df =  df.drop('_id', axis=1)\n",
    "            return df\n",
    "        except Exception as e:\n",
    "            raise e\n",
    "    \n",
    "    def export_data_into_feature_store_file_path(self):\n",
    "        \"\"\"\n",
    "       \n",
    "        \"\"\"\n",
    "        try:\n",
    "            logger.info(f\"Exporting data from mongodb\")\n",
    "            raw_file_path  = self.config.raw_data_dir\n",
    "            os.makedirs(raw_file_path,exist_ok=True)\n",
    "\n",
    "            taxi_data = self.export_collection_as_df(\n",
    "                                                   collection_name= MONGO_COLLECTION_NAME,\n",
    "                                                   db_name = MONGO_DATABASE_NAME\n",
    "                                                        )\n",
    "            \n",
    "            \n",
    "            logger.info(f\"Saving exported data into feature store file path: {raw_file_path}\")\n",
    "        \n",
    "            feature_store_file_path = os.path.join(raw_file_path,'nyc_taxi_data.csv')\n",
    "            os.makedirs(feature_store_file_path,exist_ok=True)\n",
    "            taxi_data.to_csv(feature_store_file_path,index=False)\n",
    "           \n",
    "\n",
    "            return feature_store_file_path\n",
    "            \n",
    "            \n",
    "\n",
    "        except Exception as e:\n",
    "            raise e           "
   ]
  },
  {
   "cell_type": "code",
   "execution_count": 11,
   "metadata": {},
   "outputs": [
    {
     "name": "stdout",
     "output_type": "stream",
     "text": [
      "[2024-01-13 22:37:56,850: INFO: common: yaml file: config\\config.yaml loaded successfully]\n",
      "[2024-01-13 22:37:56,852: INFO: common: yaml file: params.yaml loaded successfully]\n",
      "[2024-01-13 22:37:56,855: INFO: common: yaml file: schema.yaml loaded successfully]\n",
      "[2024-01-13 22:37:56,856: INFO: common: created directory at: artifacts]\n",
      "[2024-01-13 22:37:56,857: INFO: common: created directory at: artifacts/data_ingestion]\n",
      "[2024-01-13 22:37:56,857: INFO: 3285830496: Exporting data from mongodb]\n",
      "[2024-01-13 22:38:05,619: INFO: 3285830496: Saving exported data into feature store file path: artifacts/data_ingestion]\n"
     ]
    }
   ],
   "source": [
    "try: \n",
    "    config = ConfigManager()\n",
    "    data_ingestion_config = config.get_data_ingestion_config()\n",
    "    data_ingestion = DataIngestion(config=data_ingestion_config)\n",
    "    data_ingestion.export_data_into_feature_store_file_path()\n",
    "except Exception as e:\n",
    "    raise e\n"
   ]
  }
 ],
 "metadata": {
  "kernelspec": {
   "display_name": "Python 3",
   "language": "python",
   "name": "python3"
  },
  "language_info": {
   "codemirror_mode": {
    "name": "ipython",
    "version": 3
   },
   "file_extension": ".py",
   "mimetype": "text/x-python",
   "name": "python",
   "nbconvert_exporter": "python",
   "pygments_lexer": "ipython3",
   "version": "3.8.0"
  }
 },
 "nbformat": 4,
 "nbformat_minor": 2
}
