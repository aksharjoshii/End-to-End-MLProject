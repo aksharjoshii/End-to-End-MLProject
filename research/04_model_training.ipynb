{
 "cells": [
  {
   "cell_type": "code",
   "execution_count": 39,
   "metadata": {},
   "outputs": [
    {
     "data": {
      "text/plain": [
       "'d:\\\\ML_Deployment\\\\Automadata'"
      ]
     },
     "execution_count": 39,
     "metadata": {},
     "output_type": "execute_result"
    }
   ],
   "source": [
    "%pwd"
   ]
  },
  {
   "cell_type": "code",
   "execution_count": 2,
   "metadata": {},
   "outputs": [
    {
     "data": {
      "text/plain": [
       "'d:\\\\ML_Deployment\\\\Automadata'"
      ]
     },
     "execution_count": 2,
     "metadata": {},
     "output_type": "execute_result"
    }
   ],
   "source": [
    "import os \n",
    "os.chdir('../')\n",
    "%pwd"
   ]
  },
  {
   "cell_type": "code",
   "execution_count": 60,
   "metadata": {},
   "outputs": [],
   "source": [
    "import numpy as np \n",
    "import pandas as pd \n",
    "from dataclasses import dataclass\n",
    "from pathlib import Path\n",
    "import numpy as np \n",
    "import json\n",
    "from src.logging import logger\n",
    "from sklearn.svm import SVC\n",
    "from sklearn.ensemble import RandomForestClassifier\n",
    "from xgboost import XGBClassifier, DMatrix\n",
    "from sklearn.model_selection import train_test_split, GridSearchCV\n",
    "from sklearn.metrics import f1_score, accuracy_score, roc_auc_score\n",
    "from src.constants import *\n",
    "from src.utils.common import *\n",
    "from typing import Dict, Union, List"
   ]
  },
  {
   "cell_type": "code",
   "execution_count": 61,
   "metadata": {},
   "outputs": [],
   "source": [
    "@dataclass(frozen=True)\n",
    "class ModelTrainerConfig:\n",
    "    root_dir: Path\n",
    "    train_data_path: Path\n",
    "    test_data_path: Path\n",
    "    model_param_grid: dict \n",
    "\n",
    "class ConfigManager:\n",
    "    def __init__(\n",
    "        self,\n",
    "        config_filepath=CONFIG_FILE_PATH,\n",
    "        params_filepath=PARAMS_FILE_PATH,\n",
    "        schema_filepath=SCHEMA_FILE_PATH\n",
    "    ):\n",
    "        self.config = read_yaml(config_filepath)\n",
    "        self.params = read_yaml(params_filepath)\n",
    "        self.schema = read_yaml(schema_filepath)\n",
    "\n",
    "        create_directories([self.config.artifacts_root])\n",
    "\n",
    "    def get_model_trainer_config(self) -> ModelTrainerConfig:\n",
    "        config = self.config.model_trainer\n",
    "        \n",
    "        model_param_grid = self.params.get('search_grid', {})\n",
    "    \n",
    "\n",
    "        create_directories([config.root_dir])\n",
    "\n",
    "        model_trainer_config = ModelTrainerConfig(\n",
    "            root_dir=config.root_dir,\n",
    "            train_data_path=config.train_data_path,\n",
    "            test_data_path=config.test_data_path,\n",
    "            model_param_grid =model_param_grid,\n",
    "        )\n",
    "\n",
    "        return model_trainer_config\n"
   ]
  },
  {
   "cell_type": "code",
   "execution_count": 66,
   "metadata": {},
   "outputs": [],
   "source": [
    "class ModelTrainer:\n",
    "    def __init__(self, config:ModelTrainerConfig):\n",
    "        self.config = config\n",
    "        self.model_info = {}\n",
    "        \n",
    "    def read_transformed_data(self):\n",
    "        train_data = np.load(self.config.train_data_path)\n",
    "        test_data = np.load(self.config.test_data_path)\n",
    "        X_train = train_data[:,:-1]\n",
    "        y_train = train_data[:,-1]\n",
    "        X_test = test_data[:,:-1]\n",
    "        y_test = test_data[:,-1]\n",
    "        return X_train, y_train, X_test, y_test\n",
    "        \n",
    "    def model_tuning(self):\n",
    "        X_train, y_train, _, _ = self.read_transformed_data()\n",
    "        \n",
    "        xgb_params = {\n",
    "            'tree_method': 'gpu_hist',  \n",
    "            'gpu_id': 0,  \n",
    "        }\n",
    "        xgb_clf = XGBClassifier(**xgb_params)\n",
    "        grid_search = GridSearchCV(estimator=xgb_clf, param_grid=self.config.model_param_grid , scoring='f1', cv=5, n_jobs=-1, verbose=1)\n",
    "        grid_search.fit(X_train, y_train)\n",
    "        best_estimator = grid_search.best_estimator_\n",
    "        best_params = grid_search.best_params_\n",
    "        best_model = XGBClassifier(tree_method='gpu_hist', gpu_id=0, **best_params)\n",
    "        best_model.fit(X_train, y_train)\n",
    "\n",
    "        self.model_info['best_params'] = grid_search.best_params_\n",
    "        self.model_info['f1_score'] = grid_search.best_score_\n",
    "\n",
    "        with open(os.path.join(self.config.root_dir, 'best_model_info.json'), 'w') as f:\n",
    "            json.dump(self.model_info, f)\n",
    "\n",
    "        save_bin(best_model, path=os.path.join(self.config.root_dir, 'model.joblib'))\n",
    "            \n",
    "        \n",
    "        \n",
    "        "
   ]
  },
  {
   "cell_type": "code",
   "execution_count": 67,
   "metadata": {},
   "outputs": [
    {
     "name": "stdout",
     "output_type": "stream",
     "text": [
      "[2024-01-15 11:43:24,438: INFO: common: yaml file: config\\config.yaml loaded successfully]\n",
      "[2024-01-15 11:43:24,441: INFO: common: yaml file: params\\params.yaml loaded successfully]\n",
      "[2024-01-15 11:43:24,445: INFO: common: yaml file: schema.yaml loaded successfully]\n",
      "[2024-01-15 11:43:24,446: INFO: common: created directory at: artifacts]\n",
      "[2024-01-15 11:43:24,446: INFO: common: created directory at: artifacts/model_trainer]\n",
      "Fitting 5 folds for each of 486 candidates, totalling 2430 fits\n"
     ]
    }
   ],
   "source": [
    "try:\n",
    "    config = ConfigManager()\n",
    "    model_trainer_config = config.get_model_trainer_config()\n",
    "    model_trainer_config = ModelTrainer(config=model_trainer_config)\n",
    "    model_trainer_config.model_tuning()\n",
    "except Exception as e:\n",
    "    raise e"
   ]
  }
 ],
 "metadata": {
  "kernelspec": {
   "display_name": "Python 3",
   "language": "python",
   "name": "python3"
  },
  "language_info": {
   "codemirror_mode": {
    "name": "ipython",
    "version": 3
   },
   "file_extension": ".py",
   "mimetype": "text/x-python",
   "name": "python",
   "nbconvert_exporter": "python",
   "pygments_lexer": "ipython3",
   "version": "3.8.0"
  }
 },
 "nbformat": 4,
 "nbformat_minor": 2
}
