{
 "cells": [
  {
   "cell_type": "code",
   "execution_count": 20,
   "metadata": {},
   "outputs": [
    {
     "data": {
      "text/plain": [
       "'d:\\\\ML_Deployment\\\\Automadata'"
      ]
     },
     "execution_count": 20,
     "metadata": {},
     "output_type": "execute_result"
    }
   ],
   "source": [
    "%pwd "
   ]
  },
  {
   "cell_type": "code",
   "execution_count": 2,
   "metadata": {},
   "outputs": [],
   "source": [
    "import os \n",
    "os.chdir('../')"
   ]
  },
  {
   "cell_type": "code",
   "execution_count": 3,
   "metadata": {},
   "outputs": [
    {
     "data": {
      "text/plain": [
       "'d:\\\\ML_Deployment\\\\Automadata'"
      ]
     },
     "execution_count": 3,
     "metadata": {},
     "output_type": "execute_result"
    }
   ],
   "source": [
    "%pwd"
   ]
  },
  {
   "cell_type": "code",
   "execution_count": 4,
   "metadata": {},
   "outputs": [],
   "source": [
    "import joblib\n",
    "import numpy as np \n",
    "import pandas as pd \n",
    "from pathlib import Path \n",
    "from dataclasses import dataclass\n",
    "from src.logging import logger\n",
    "from src.constants import *\n",
    "from src.utils.common import *"
   ]
  },
  {
   "cell_type": "code",
   "execution_count": 71,
   "metadata": {},
   "outputs": [],
   "source": [
    "PREPROCESSOR_OBJ_PATH = \"artifacts/data_transformation/preprocessor.joblib\"\n",
    "MODEL_OBJ_PATH = \"artifacts/model_trainer/clf_model.joblib\""
   ]
  },
  {
   "cell_type": "code",
   "execution_count": 7,
   "metadata": {},
   "outputs": [],
   "source": [
    "from src.components.data_transformation import DataTransformation\n",
    "from src.config.configuration import ConfigManager\n",
    "from src.entity.config_entity import DataTransformationConfig"
   ]
  },
  {
   "cell_type": "code",
   "execution_count": 88,
   "metadata": {},
   "outputs": [],
   "source": [
    "class PredictionPipeline:\n",
    "    def __init__(self, data_transform_config):\n",
    "        try:\n",
    "            self.data_transform = DataTransformation(data_transform_config)\n",
    "            self.preprocessor = joblib.load(Path(PREPROCESSOR_OBJ_PATH))\n",
    "            self.model = joblib.load(Path(MODEL_OBJ_PATH))\n",
    "        except Exception as e:\n",
    "            raise RuntimeError(f\"Error loading preprocessor or model: {e}\")\n",
    "\n",
    "    def model_prediction(self, data):\n",
    "        \"\"\"\n",
    "        Make predictions using the loaded preprocessor and model.\n",
    "\n",
    "        Args:\n",
    "            data (pd.DataFrame): Input data for prediction.\n",
    "\n",
    "        Returns:\n",
    "            tuple: A tuple containing the predicted labels and predicted probabilities.\n",
    "        \"\"\"\n",
    "        try:\n",
    "            features = self.data_transform.generate_features(data)\n",
    "            data_transformed = self.preprocessor.transform(features)\n",
    "            prediction = self.model.predict(data_transformed)\n",
    "            predict_prob = self.model.predict_proba(data_transformed)[:,-1]\n",
    "            return prediction, predict_prob\n",
    "        except Exception as e:\n",
    "            raise RuntimeError(f\"Error making predictions: {e}\")"
   ]
  },
  {
   "cell_type": "code",
   "execution_count": 89,
   "metadata": {},
   "outputs": [],
   "source": [
    "data_transform_config = DataTransformationConfig"
   ]
  },
  {
   "cell_type": "code",
   "execution_count": 90,
   "metadata": {},
   "outputs": [],
   "source": [
    "predict_pipeline= PredictionPipeline(data_transform_config)"
   ]
  },
  {
   "cell_type": "code",
   "execution_count": 91,
   "metadata": {},
   "outputs": [],
   "source": [
    "res, pred_proba = predict_pipeline.model_prediction(test_data)"
   ]
  },
  {
   "cell_type": "code",
   "execution_count": 92,
   "metadata": {},
   "outputs": [
    {
     "data": {
      "text/plain": [
       "(array([1, 0, 1, 0, 0, 1, 1, 0, 0, 1, 1, 1, 0, 0, 0, 0, 0, 0, 0, 0, 0, 1,\n",
       "        1, 0, 0, 1, 1, 1, 1, 1, 1, 1, 1, 1, 1, 1, 1, 1, 0, 1, 1, 1, 1, 1,\n",
       "        1, 1, 1, 1, 1, 1]),\n",
       " array([0.65826553, 0.17066029, 0.8160412 , 0.06470333, 0.00482792,\n",
       "        0.8008575 , 0.6733873 , 0.17748894, 0.09692879, 0.66033685,\n",
       "        0.71845347, 0.936299  , 0.24474007, 0.2722317 , 0.17777535,\n",
       "        0.1766214 , 0.06834161, 0.04261632, 0.03448173, 0.30696705,\n",
       "        0.0709138 , 0.55926657, 0.50420356, 0.31273413, 0.07806255,\n",
       "        0.51465374, 0.6003771 , 0.6536493 , 0.8718947 , 0.81741893,\n",
       "        0.90742725, 0.7104256 , 0.8642303 , 0.6717175 , 0.9141675 ,\n",
       "        0.7203101 , 0.77411675, 0.9354172 , 0.4293785 , 0.81500465,\n",
       "        0.8010178 , 0.9412297 , 0.7584153 , 0.73955053, 0.9861098 ,\n",
       "        0.83145124, 0.8416393 , 0.5331895 , 0.95014435, 0.7495083 ],\n",
       "       dtype=float32))"
      ]
     },
     "execution_count": 92,
     "metadata": {},
     "output_type": "execute_result"
    }
   ],
   "source": [
    "res, pred_proba"
   ]
  }
 ],
 "metadata": {
  "kernelspec": {
   "display_name": "Python 3",
   "language": "python",
   "name": "python3"
  },
  "language_info": {
   "codemirror_mode": {
    "name": "ipython",
    "version": 3
   },
   "file_extension": ".py",
   "mimetype": "text/x-python",
   "name": "python",
   "nbconvert_exporter": "python",
   "pygments_lexer": "ipython3",
   "version": "3.8.0"
  }
 },
 "nbformat": 4,
 "nbformat_minor": 2
}
