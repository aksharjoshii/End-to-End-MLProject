{
 "cells": [
  {
   "cell_type": "code",
   "execution_count": 1,
   "metadata": {},
   "outputs": [
    {
     "data": {
      "text/plain": [
       "'d:\\\\ML_Deployment\\\\Automadata\\\\research'"
      ]
     },
     "execution_count": 1,
     "metadata": {},
     "output_type": "execute_result"
    }
   ],
   "source": [
    "%pwd "
   ]
  },
  {
   "cell_type": "code",
   "execution_count": 2,
   "metadata": {},
   "outputs": [],
   "source": [
    "import os \n",
    "os.chdir('../')"
   ]
  },
  {
   "cell_type": "code",
   "execution_count": 3,
   "metadata": {},
   "outputs": [
    {
     "data": {
      "text/plain": [
       "'d:\\\\ML_Deployment\\\\Automadata'"
      ]
     },
     "execution_count": 3,
     "metadata": {},
     "output_type": "execute_result"
    }
   ],
   "source": [
    "%pwd"
   ]
  },
  {
   "cell_type": "code",
   "execution_count": null,
   "metadata": {},
   "outputs": [],
   "source": [
    "import joblib\n",
    "import numpy as np \n",
    "import pandas as pd \n",
    "from pathlib import Path \n",
    "from dataclasses import dataclass\n",
    "\n",
    "@dataclass\n",
    "class PredictionConf\n",
    "\n",
    "class PredictionPipeline:\n",
    "    def __init__(self):\n",
    "        try:\n",
    "            self.preprocessor = joblib.load(Path('artifacts/data_transformation/preprocessor.joblib'))\n",
    "            self.model = joblib.load(Path('artifacts/model_trainer/model.joblib'))\n",
    "        except Exception as e:\n",
    "            raise RuntimeError(f\"Error loading preprocessor or model: {e}\")\n",
    "\n",
    "    def model_prediction(self, data):\n",
    "        \"\"\"\n",
    "        Make predictions using the loaded preprocessor and model.\n",
    "\n",
    "        Args:\n",
    "            data (pd.DataFrame): Input data for prediction.\n",
    "\n",
    "        Returns:\n",
    "            tuple: A tuple containing the predicted labels and predicted probabilities.\n",
    "        \"\"\"\n",
    "        try:\n",
    "            data_transformed = self.preprocessor.transform(data)\n",
    "            prediction = self.model.predict(data_transformed)\n",
    "            predict_prob = self.model.predict_proba(data_transformed)\n",
    "            return prediction, predict_prob\n",
    "        except Exception as e:\n",
    "            raise RuntimeError(f\"Error making predictions: {e}\")"
   ]
  }
 ],
 "metadata": {
  "kernelspec": {
   "display_name": "Python 3",
   "language": "python",
   "name": "python3"
  },
  "language_info": {
   "codemirror_mode": {
    "name": "ipython",
    "version": 3
   },
   "file_extension": ".py",
   "mimetype": "text/x-python",
   "name": "python",
   "nbconvert_exporter": "python",
   "pygments_lexer": "ipython3",
   "version": "3.8.0"
  }
 },
 "nbformat": 4,
 "nbformat_minor": 2
}
