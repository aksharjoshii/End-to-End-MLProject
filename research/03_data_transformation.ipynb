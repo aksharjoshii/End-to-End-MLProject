{
 "cells": [
  {
   "cell_type": "code",
   "execution_count": 1,
   "metadata": {},
   "outputs": [
    {
     "data": {
      "text/plain": [
       "'d:\\\\ML_Deployment\\\\Automadata\\\\research'"
      ]
     },
     "execution_count": 1,
     "metadata": {},
     "output_type": "execute_result"
    }
   ],
   "source": [
    "import os \n",
    "%pwd"
   ]
  },
  {
   "cell_type": "code",
   "execution_count": 2,
   "metadata": {},
   "outputs": [],
   "source": [
    "os.chdir('../')"
   ]
  },
  {
   "cell_type": "code",
   "execution_count": 3,
   "metadata": {},
   "outputs": [
    {
     "data": {
      "text/plain": [
       "'d:\\\\ML_Deployment\\\\Automadata'"
      ]
     },
     "execution_count": 3,
     "metadata": {},
     "output_type": "execute_result"
    }
   ],
   "source": [
    "%pwd"
   ]
  },
  {
   "cell_type": "code",
   "execution_count": 4,
   "metadata": {},
   "outputs": [],
   "source": [
    "import numpy as np"
   ]
  },
  {
   "cell_type": "code",
   "execution_count": 5,
   "metadata": {},
   "outputs": [],
   "source": [
    "from dataclasses import dataclass\n",
    "from pathlib import Path\n",
    "from src.logging import logger\n",
    "import pandas as pd\n",
    "from src.constants import *\n",
    "from src.utils.common import *\n",
    "from sklearn.model_selection import train_test_split\n",
    "from sklearn.pipeline import Pipeline\n",
    "from sklearn.compose import ColumnTransformer\n",
    "from sklearn.impute import SimpleImputer\n",
    "from sklearn.preprocessing import StandardScaler, FunctionTransformer, OneHotEncoder"
   ]
  },
  {
   "cell_type": "code",
   "execution_count": 6,
   "metadata": {},
   "outputs": [],
   "source": [
    "@dataclass(frozen=True)\n",
    "class DataTransformationConfig:\n",
    "    root_dir: Path\n",
    "    data_path : Path\n",
    "    preprocessor_obj_file_path : str\n",
    "    target_column: str"
   ]
  },
  {
   "cell_type": "code",
   "execution_count": 7,
   "metadata": {},
   "outputs": [],
   "source": [
    "class ConfigManager:\n",
    "    \n",
    "    def __init__(\n",
    "        self,\n",
    "        config_filepath = CONFIG_FILE_PATH,\n",
    "        params_filepath = PARAMS_FILE_PATH,\n",
    "        schema_filepath = SCHEMA_FILE_PATH):\n",
    "        \n",
    "        self.config = read_yaml(config_filepath)\n",
    "        self.params = read_yaml(params_filepath)\n",
    "        self.schema = read_yaml(schema_filepath)\n",
    "        \n",
    "        create_directories([self.config.artifacts_root])\n",
    "    \n",
    "    def get_data_transformation_config(self) -> DataTransformationConfig:\n",
    "        config = self.config.data_transformation\n",
    "        \n",
    "        schema = self.schema.TARGET_COLUMN\n",
    "        \n",
    "        create_directories([config.root_dir])\n",
    "        \n",
    "        data_transformation_config = DataTransformationConfig(\n",
    "            root_dir=config.root_dir,\n",
    "            data_path= config.data_path,\n",
    "            preprocessor_obj_file_path =config.preprocessor_obj_file_path,\n",
    "            target_column= schema.name  \n",
    "        )\n",
    "        \n",
    "        return data_transformation_config"
   ]
  },
  {
   "cell_type": "code",
   "execution_count": 9,
   "metadata": {},
   "outputs": [],
   "source": [
    "class DataTransformation:\n",
    "    def __init__(self, config:DataTransformationConfig):\n",
    "        self.config = config\n",
    "        \n",
    "    def generate_features(self, input_data: pd.DataFrame) -> pd.DataFrame:\n",
    "\n",
    "        # Convert pickup and dropoff cols to datetime\n",
    "        input_data['tpep_pickup_datetime'] = pd.to_datetime(input_data['tpep_pickup_datetime'], format='%m/%d/%Y %I:%M:%S %p')\n",
    "        input_data['tpep_dropoff_datetime'] = pd.to_datetime(input_data['tpep_dropoff_datetime'], format='%m/%d/%Y %I:%M:%S %p')\n",
    "        #create month\n",
    "        input_data['month'] = input_data['tpep_pickup_datetime'].dt.strftime('%b').str.lower()\n",
    "        # create day col\n",
    "        input_data['day'] = input_data['tpep_pickup_datetime'].dt.day_name().str.lower()\n",
    "        # create time of the day\n",
    "        input_data['am_rush'] = input_data['tpep_pickup_datetime'].dt.hour\n",
    "        input_data['day_time'] = input_data['tpep_pickup_datetime'].dt.hour\n",
    "        input_data['pm_rush'] = input_data['tpep_pickup_datetime'].dt.hour\n",
    "        input_data['night time'] = input_data['tpep_pickup_datetime'].dt.hour\n",
    "\n",
    "        input_data['am_rush'] = input_data['am_rush'].apply(lambda x: 1 if 6 <= x < 10 else 0)\n",
    "        input_data['day_time'] = input_data['am_rush'].apply(lambda x: 1 if 10 <= x < 16 else 0)\n",
    "        input_data['pm_rush'] = input_data['am_rush'].apply(lambda x: 1 if 16<= x < 20 else 0)\n",
    "        input_data['night_time'] = input_data['am_rush'].apply(lambda x : 1 if (20 <= x < 24) or (0 <= x < 6) else 0)\n",
    "\n",
    "        # drop redundant columns\n",
    "        drop_cols = ['tpep_pickup_datetime', 'tpep_dropoff_datetime',\n",
    "                    'payment_type', 'trip_distance', 'store_and_fwd_flag',\n",
    "                    'fare_amount', 'extra', 'mta_tax', 'tip_amount', 'tolls_amount',\n",
    "                    'improvement_surcharge', 'total_amount', 'tip_percent']\n",
    "        # convert catergorical features to string\n",
    "        cols_to_str = ['RatecodeID', 'VendorID', 'DOLocationID', 'PULocationID']\n",
    "\n",
    "        # Convert each column to string\n",
    "        for col in cols_to_str:\n",
    "            input_data[col] = input_data[col].astype('str')\n",
    "\n",
    "        input_data = input_data.drop(columns=drop_cols, axis=1)\n",
    "\n",
    "        return input_data\n",
    "        \n",
    "    def get_data_transformer_object(self):\n",
    "\n",
    "        try:\n",
    "            \n",
    "            numerical_columns = ['passenger_count', 'mean_duration', 'mean_distance', 'predicted_fare',\n",
    "                                'am_rush', 'day_time', 'pm_rush', 'night_time']\n",
    "            categorical_columns = ['VendorID', 'RatecodeID', 'day', \n",
    "                                    'month', 'PULocationID', 'DOLocationID']\n",
    "\n",
    "            num_pipeline = Pipeline(\n",
    "                steps = [\n",
    "                    ('imputer', SimpleImputer(strategy='median')),\n",
    "                    ('scaler', StandardScaler())\n",
    "                ]\n",
    "            )\n",
    "\n",
    "            cat_pipeline = Pipeline(\n",
    "                steps=[\n",
    "                    ('imputer', SimpleImputer(strategy='most_frequent')),\n",
    "                    ('one_hot_encoder', OneHotEncoder(handle_unknown='ignore', categories='auto')),\n",
    "                    ('scaler', StandardScaler(with_mean=False) )\n",
    "                ]\n",
    "            )\n",
    "\n",
    "            preprocessor = ColumnTransformer(\n",
    "                [\n",
    "\n",
    "                ('num_pipeline', num_pipeline, numerical_columns),\n",
    "                ('cat_pipeline', cat_pipeline, categorical_columns)\n",
    "\n",
    "                ]\n",
    "            )\n",
    "            \n",
    "            return preprocessor\n",
    "        except Exception as e:\n",
    "            raise e\n",
    "    \n",
    "    def data_splitting_preprocessing(self):\n",
    "        \n",
    "        data = pd.read_csv(self.config.data_path)\n",
    "        data_clean =self.generate_features(data)\n",
    "        data_clean.dropna(inplace=True)\n",
    "        column_names = data_clean.columns\n",
    "        # split train and test data and save it as artifact \n",
    "        train, test = train_test_split(data_clean, test_size=0.25, random_state=0)\n",
    "        train_x = train.drop([self.config.target_column], axis=1)\n",
    "        train_y = train[[self.config.target_column]]\n",
    "        test_x = test.drop([self.config.target_column], axis=1)\n",
    "        test_y = test[[self.config.target_column]]\n",
    "        \n",
    "        preprocessor_obj = self.get_data_transformer_object()\n",
    "        X_train_transformed = preprocessor_obj.fit_transform(train_x)\n",
    "        X_test_transformed = preprocessor_obj.transform(test_x)\n",
    "        \n",
    "        # convert sparse matrix t0 numpy array  \n",
    "        X_train_arr = X_train_transformed.toarray()\n",
    "        X_test_arr = X_test_transformed.toarray()\n",
    "        y_train_arr = train_y.to_numpy()\n",
    "        y_test_arr = test_y.to_numpy()\n",
    "        \n",
    "        \n",
    "        train_arr = np.c_[X_train_arr, y_train_arr]\n",
    "        test_arr = np.c_[X_test_arr,  y_test_arr]\n",
    "        \n",
    "        \n",
    "        \n",
    "        logger.info(f\"save preprocessor object to {self.config.preprocessor_obj_file_path}\")\n",
    "        save_bin(object=preprocessor_obj, path =os.path.join(self.config.preprocessor_obj_file_path, \"preprocessor.joblib\"))\n",
    "        \n",
    "        logger.info(\"Preprocessed train and test data are saved \")\n",
    "        # Save the NumPy arrays to .npy files\n",
    "        np.save(os.path.join(self.config.root_dir, \"train.npy\"), train_arr)\n",
    "        np.save(os.path.join(self.config.root_dir, \"test.npy\"), test_arr)\n",
    "        logger.info(f\"train data shape : {train_arr.shape}\")\n",
    "        logger.info(f\"test data shape : {test_arr.shape}\")\n",
    "        \n",
    "\n",
    "    \n",
    "    \n",
    "        "
   ]
  },
  {
   "cell_type": "code",
   "execution_count": 10,
   "metadata": {},
   "outputs": [
    {
     "name": "stdout",
     "output_type": "stream",
     "text": [
      "[2024-01-13 20:43:06,361: INFO: common: yaml file: config\\config.yaml loaded successfully]\n",
      "[2024-01-13 20:43:06,364: INFO: common: yaml file: params.yaml loaded successfully]\n",
      "[2024-01-13 20:43:06,367: INFO: common: yaml file: schema.yaml loaded successfully]\n",
      "[2024-01-13 20:43:06,367: INFO: common: created directory at: artifacts]\n",
      "[2024-01-13 20:43:06,367: INFO: common: created directory at: artifacts/data_transformation]\n",
      "[2024-01-13 20:43:06,659: INFO: 793293800: save preprocessor object to artifacts/data_transformation]\n",
      "[2024-01-13 20:43:06,664: INFO: common: binary file saved at: artifacts/data_transformation\\preprocessor.joblib]\n",
      "[2024-01-13 20:43:06,664: INFO: 793293800: Preprocessed train and test data are saved ]\n",
      "[2024-01-13 20:43:06,690: INFO: 793293800: train data shape : (10875, 342)]\n",
      "[2024-01-13 20:43:06,691: INFO: 793293800: test data shape : (3626, 342)]\n"
     ]
    }
   ],
   "source": [
    "try:\n",
    "    config = ConfigManager()\n",
    "    data_transformation_config = config.get_data_transformation_config()\n",
    "    data_transformation = DataTransformation(config=data_transformation_config)\n",
    "    data_transformation.data_splitting_preprocessing()\n",
    "except Exception as e:\n",
    "    raise e "
   ]
  }
 ],
 "metadata": {
  "kernelspec": {
   "display_name": "Python 3",
   "language": "python",
   "name": "python3"
  },
  "language_info": {
   "codemirror_mode": {
    "name": "ipython",
    "version": 3
   },
   "file_extension": ".py",
   "mimetype": "text/x-python",
   "name": "python",
   "nbconvert_exporter": "python",
   "pygments_lexer": "ipython3",
   "version": "3.8.0"
  }
 },
 "nbformat": 4,
 "nbformat_minor": 2
}
